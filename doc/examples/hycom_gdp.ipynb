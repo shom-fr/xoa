{
 "cells": [
  {
   "cell_type": "markdown",
   "id": "bibliographic-collaboration",
   "metadata": {},
   "source": [
    "# Compare Hycom3d with a GDP drifter\n",
    "\n",
    "In this notebook, we show :\n",
    "\n",
    "* how to decode dataset so that it is easy to access generic coordinates and variables,\n",
    "* how to compute depths from layer thicknesses,\n",
    "* how to interpolate currents from U and V positions to T position on an arakawa C grid,\n",
    "* how to perform a 4D interpolation with a variable depth coordinate to random positions,\n",
    "* how to make an horizontal slice of a 4D variable with a variable depth coordinate.\n",
    "\n",
    "## Initialisations"
   ]
  },
  {
   "cell_type": "code",
   "execution_count": null,
   "id": "iraqi-artwork",
   "metadata": {},
   "outputs": [],
   "source": [
    "import numpy as np\n",
    "import xarray as xr\n",
    "import matplotlib.pyplot as plt\n",
    "import cartopy.crs as ccrs\n",
    "import xoa\n",
    "from xoa.grid import dz2depth, shift\n",
    "from xoa.regrid import grid2loc, regrid1d\n",
    "import xoa.cf as xcf\n",
    "import xoa.geo as xgeo\n",
    "from xoa.plot import plot_flow\n",
    "\n",
    "xr.set_options(display_style=\"text\");"
   ]
  },
  {
   "cell_type": "markdown",
   "id": "federal-proceeding",
   "metadata": {},
   "source": [
    "Register the [xoa](https://xoa.readthedocs.io/en/latest/api/xoa.accessors.XoaDatasetAccessor.html) xarray accessor :"
   ]
  },
  {
   "cell_type": "code",
   "execution_count": null,
   "id": "broad-conclusion",
   "metadata": {},
   "outputs": [],
   "source": [
    "xoa.register_accessors()"
   ]
  },
  {
   "cell_type": "markdown",
   "id": "according-passport",
   "metadata": {},
   "source": [
    "Register the Hycom naming specifications:"
   ]
  },
  {
   "cell_type": "code",
   "execution_count": null,
   "id": "major-inspection",
   "metadata": {},
   "outputs": [],
   "source": [
    "xcf.register_cf_specs(xoa.get_data_sample(\"hycom.cfg\"))"
   ]
  },
  {
   "cell_type": "markdown",
   "id": "heated-panel",
   "metadata": {},
   "source": [
    "Here is what these CF specifications contain:"
   ]
  },
  {
   "cell_type": "code",
   "execution_count": null,
   "id": "incredible-stereo",
   "metadata": {},
   "outputs": [],
   "source": [
    "with open(xoa.get_data_sample(\"hycom.cfg\")) as f:\n",
    "    print(f.read())"
   ]
  },
  {
   "cell_type": "markdown",
   "id": "sudden-blogger",
   "metadata": {},
   "source": [
    "Note that most of these specifications are not needed to decode the dataset, i.e to find known variables and coordinates, since the default specifications help for that. "
   ]
  },
  {
   "cell_type": "markdown",
   "id": "returning-munich",
   "metadata": {},
   "source": [
    "## Read and decode the datasets\n",
    "\n",
    "### Hycom velocities\n",
    "U and V are stored in separate files at U and V locations on the Hycom Arakawa C-Grid.\n",
    "We choose to rename the dataset contents so that we can use generic names to access it.\n",
    "We call for that the [decode](https://xoa.readthedocs.io/en/latest/api/xoa.accessors.XoaDatasetAccessor.decode.html) method the [xoa](https://xoa.readthedocs.io/en/latest/api/xoa.accessors.XoaDatasetAccessor.html) accessor."
   ]
  },
  {
   "cell_type": "code",
   "execution_count": null,
   "id": "floral-substance",
   "metadata": {},
   "outputs": [],
   "source": [
    "# U velocity component\n",
    "u_hycom = xoa.open_data_sample(\"hycom.gdp.u.nc\").xoa.decode().u.squeeze(drop=True)\n",
    "# V velocity component\n",
    "v_hycom = xoa.open_data_sample(\"hycom.gdp.v.nc\").xoa.decode().v.squeeze(drop=True)\n",
    "# Layer thicknesses\n",
    "hycom = xoa.open_data_sample(\"hycom.gdp.h.nc\").xoa.decode().squeeze(drop=True)"
   ]
  },
  {
   "cell_type": "markdown",
   "id": "matched-rough",
   "metadata": {},
   "source": [
    "We now compute the depths from the layer thicknesses at the T location thanks to the [xoa.grid.dz2depth](https://xoa.readthedocs.io/en/latest/api/xoa.grid.dz2depth.html#xoa.grid.dz2depth) function: we make integrate from a null SSH and interpolate the depth from W locations to T locations."
   ]
  },
  {
   "cell_type": "code",
   "execution_count": null,
   "id": "available-beaver",
   "metadata": {},
   "outputs": [],
   "source": [
    "hycom.coords[\"depth\"] = dz2depth(hycom.dz, centered=True)"
   ]
  },
  {
   "cell_type": "markdown",
   "id": "pending-amount",
   "metadata": {},
   "source": [
    "Now we interpolate the velocity components to the T location with the [xoa.grid.shift](https://xoa.readthedocs.io/en/latest/api/xoa.grid.shift.html) function."
   ]
  },
  {
   "cell_type": "code",
   "execution_count": null,
   "id": "continuing-migration",
   "metadata": {},
   "outputs": [],
   "source": [
    "ut_hycom = shift(u_hycom, {\"x\": \"left\", \"y\": \"left\"})\n",
    "vt_hycom = shift(v_hycom, {\"x\": \"left\", \"y\": \"left\"})\n",
    "hycom[\"u\"] = ut_hycom.assign_coords(**hycom.coords)\n",
    "hycom[\"v\"] = vt_hycom.assign_coords(**hycom.coords)"
   ]
  },
  {
   "cell_type": "markdown",
   "id": "hazardous-salvation",
   "metadata": {},
   "source": [
    "So, finally we obtain:"
   ]
  },
  {
   "cell_type": "code",
   "execution_count": null,
   "id": "standard-constitutional",
   "metadata": {},
   "outputs": [],
   "source": [
    "hycom"
   ]
  },
  {
   "cell_type": "markdown",
   "id": "adjusted-allah",
   "metadata": {},
   "source": [
    "### GDP drifter\n",
    "\n",
    "The drifter comes as a `csv` file and we read it as [pandas.DataFrame](https://pandas.pydata.org/pandas-docs/stable/reference/api/pandas.DataFrame.html) instance."
   ]
  },
  {
   "cell_type": "code",
   "execution_count": null,
   "id": "whole-translator",
   "metadata": {},
   "outputs": [],
   "source": [
    "drifter = xoa.open_data_sample(\"gdp-6203641.csv\", header=0, skiprows=[1], parse_dates=[2], index_col=2)"
   ]
  },
  {
   "cell_type": "markdown",
   "id": "domestic-bryan",
   "metadata": {},
   "source": [
    "Since the sampling is not that nice, we resample it to 3-hour intervals."
   ]
  },
  {
   "cell_type": "code",
   "execution_count": null,
   "id": "promising-miami",
   "metadata": {},
   "outputs": [],
   "source": [
    "drifter = drifter.resample(\"3H\").mean()"
   ]
  },
  {
   "cell_type": "markdown",
   "id": "another-agenda",
   "metadata": {},
   "source": [
    "We convert it to and [xarray.Dataset](http://xarray.pydata.org/en/stable/generated/xarray.Dataset.html), fix time and decode it."
   ]
  },
  {
   "cell_type": "code",
   "execution_count": null,
   "id": "optical-recovery",
   "metadata": {},
   "outputs": [],
   "source": [
    "drifter = drifter.to_xarray().assign_coords(time=drifter.index.values).xoa.decode()"
   ]
  },
  {
   "cell_type": "markdown",
   "id": "embedded-equilibrium",
   "metadata": {},
   "source": [
    "We drop missing values."
   ]
  },
  {
   "cell_type": "code",
   "execution_count": null,
   "id": "current-setting",
   "metadata": {},
   "outputs": [],
   "source": [
    "drifter = drifter.where(~drifter.lon.isnull() & ~drifter.lat.isnull(), drop=True)"
   ]
  },
  {
   "cell_type": "markdown",
   "id": "spectacular-essence",
   "metadata": {},
   "source": [
    "We add a constant depth of 15 m."
   ]
  },
  {
   "cell_type": "code",
   "execution_count": null,
   "id": "political-elephant",
   "metadata": {},
   "outputs": [],
   "source": [
    "drifter.coords[\"depth\"] = drifter.lon*0 + 15"
   ]
  },
  {
   "cell_type": "markdown",
   "id": "consolidated-germany",
   "metadata": {},
   "source": [
    "Here is what we obtain."
   ]
  },
  {
   "cell_type": "code",
   "execution_count": null,
   "id": "superb-stephen",
   "metadata": {},
   "outputs": [],
   "source": [
    "drifter"
   ]
  },
  {
   "cell_type": "markdown",
   "id": "secret-montreal",
   "metadata": {},
   "source": [
    "## Compute and interpolate velocities"
   ]
  },
  {
   "cell_type": "markdown",
   "id": "undefined-finland",
   "metadata": {},
   "source": [
    "We compute the drifter velocity components"
   ]
  },
  {
   "cell_type": "code",
   "execution_count": null,
   "id": "allied-share",
   "metadata": {},
   "outputs": [],
   "source": [
    "drifter[\"u\"] = drifter.lon.differentiate(\"time\", datetime_unit=\"s\") * xgeo.EARTH_RADIUS*np.pi/180\n",
    "drifter[\"u\"] *= np.cos(np.radians(drifter.lat.values))\n",
    "drifter[\"v\"] = drifter.lat.differentiate(\"time\", datetime_unit=\"s\") * xgeo.EARTH_RADIUS*np.pi/180"
   ]
  },
  {
   "cell_type": "markdown",
   "id": "hazardous-baghdad",
   "metadata": {},
   "source": [
    "We interpolate the Hycom velocity to the drifter positions with [xoa.regrid.grid2loc](https://xoa.readthedocs.io/en/latest/api/xoa.regrid.grid2loc.html). note that this is a 4D linear interpolation."
   ]
  },
  {
   "cell_type": "code",
   "execution_count": null,
   "id": "vanilla-peter",
   "metadata": {},
   "outputs": [],
   "source": [
    "uloc = grid2loc(hycom[\"u\"], drifter)\n",
    "vloc = grid2loc(hycom[\"v\"], drifter)"
   ]
  },
  {
   "cell_type": "markdown",
   "id": "intermediate-cheese",
   "metadata": {},
   "source": [
    "Instead of just showing the velocities along the drifter positions, we can plot the mean model velocities over the same period as a background. So we interpolate them at 15 m with [xoa.regrid.regrid1d](https://xoa.readthedocs.io/en/latest/api/xoa.regrid.regrid1d.html) and compute a time average."
   ]
  },
  {
   "cell_type": "code",
   "execution_count": null,
   "id": "intelligent-straight",
   "metadata": {},
   "outputs": [],
   "source": [
    "d15 = xr.DataArray([15.], dims=\"depth\", name=\"depth\")\n",
    "uh15 = regrid1d(hycom[\"u\"], d15).squeeze(drop=True).mean(dim=\"time\")\n",
    "vh15 = regrid1d(hycom[\"v\"], d15).squeeze(drop=True).mean(dim=\"time\")"
   ]
  },
  {
   "cell_type": "markdown",
   "id": "rapid-compilation",
   "metadata": {},
   "source": [
    "## Plot\n",
    "\n",
    "The geographic extent is easily computed with the [xoa.geo.get_extent](https://xoa.readthedocs.io/en/latest/api/xoa.geo.get_extent.html) function. The background currents are plotted with the [xoa.plot.plot_flow](https://xoa.readthedocs.io/en/latest/api/xoa.plot.plot_flow.html#xoa-plot-plot-flow) function."
   ]
  },
  {
   "cell_type": "code",
   "execution_count": null,
   "id": "formed-lover",
   "metadata": {},
   "outputs": [],
   "source": [
    "pmerc = ccrs.Mercator()\n",
    "pcarr = ccrs.PlateCarree()\n",
    "fig, ax = plt.subplots(figsize=(7, 7), subplot_kw={\"facecolor\": \"teal\", \"projection\": pmerc})\n",
    "ax.gridlines(draw_labels=True, dms=True)\n",
    "ax.set_extent(xgeo.get_extent(uh15))\n",
    "kwqv = dict(scale_units=\"dots\", scale=0.1/20, units=\"dots\", transform=pcarr)\n",
    "plot_flow(uh15, vh15, axes=ax, transform=pcarr, color=\"w\", alpha=(.3, 1), linewidth=.6)\n",
    "qv = ax.quiver(uloc.lon.values, uloc.lat.values, uloc.values, vloc.values, \n",
    "    color=\"w\", width=2, label=\"Model\", **kwqv)\n",
    "ax.plot(drifter.lon.values, drifter.lat.values, '-', color=\"C1\", transform=pcarr, lw=.5)\n",
    "ax.quiver(drifter.lon.values, drifter.lat.values, drifter.u.values, drifter.v.values, \n",
    "    color=\"C1\", label=\"Drifter\", width=2, **kwqv)\n",
    "plt.quiverkey(qv, 0.1, 1.06, 0.1, r\"0.1 $m\\,s^{-1}$\", color=\"k\", alpha=1, labelpos=\"E\")\n",
    "plt.legend();"
   ]
  },
  {
   "cell_type": "markdown",
   "id": "chinese-night",
   "metadata": {},
   "source": [
    "The discrepancies between the lagrangian and mean eulerian currents highlight the variability due to the mesocale activity. The differences between the observed and modeled currents are partly due to the lack of data assimilation in the model."
   ]
  }
 ],
 "metadata": {
  "kernelspec": {
   "display_name": "Python 3",
   "language": "python",
   "name": "python3"
  },
  "language_info": {
   "codemirror_mode": {
    "name": "ipython",
    "version": 3
   },
   "file_extension": ".py",
   "mimetype": "text/x-python",
   "name": "python",
   "nbconvert_exporter": "python",
   "pygments_lexer": "ipython3",
   "version": "3.7.8"
  },
  "latex_envs": {
   "LaTeX_envs_menu_present": true,
   "autoclose": false,
   "autocomplete": true,
   "bibliofile": "biblio.bib",
   "cite_by": "apalike",
   "current_citInitial": 1,
   "eqLabelWithNumbers": true,
   "eqNumInitial": 1,
   "hotkeys": {
    "equation": "Ctrl-E",
    "itemize": "Ctrl-I"
   },
   "labels_anchors": false,
   "latex_user_defs": false,
   "report_style_numbering": false,
   "user_envs_cfg": false
  },
  "toc": {
   "base_numbering": 1,
   "nav_menu": {},
   "number_sections": true,
   "sideBar": true,
   "skip_h1_title": true,
   "title_cell": "Table of Contents",
   "title_sidebar": "Contents",
   "toc_cell": false,
   "toc_position": {},
   "toc_section_display": true,
   "toc_window_display": true
  }
 },
 "nbformat": 4,
 "nbformat_minor": 5
}
