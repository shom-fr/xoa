{
 "cells": [
  {
   "cell_type": "markdown",
   "metadata": {
    "slideshow": {
     "slide_type": "slide"
    }
   },
   "source": [
    "# Interpolate a meridional section of CROCO outputs to regular depths\n",
    "\n",
    "This notebook, we show:\n",
    "\n",
    "* how to compute the depths from s-coordinates,\n",
    "* how to easily find the name of variables and coordinates,\n",
    "* how to interpolate a 3D field with varying depths to regular depths.\n",
    "\n",
    "## Inits\n",
    "\n",
    "Import needed modules."
   ]
  },
  {
   "cell_type": "code",
   "execution_count": null,
   "metadata": {},
   "outputs": [],
   "source": [
    "import numpy as np\n",
    "import xarray as xr\n",
    "import matplotlib.pyplot as plt\n",
    "import cmocean\n",
    "import xoa\n",
    "from xoa.regrid import regrid1d\n",
    "\n",
    "xr.set_options(display_style=\"text\");"
   ]
  },
  {
   "cell_type": "markdown",
   "metadata": {},
   "source": [
    "Register the [decode_sigma](file:///local/home/sraynaud/Src/xoa/doc/_build/html/api/xoa.accessors.SigmaAccessor.html#xoa.accessors.SigmaAccessor) accessor."
   ]
  },
  {
   "cell_type": "code",
   "execution_count": null,
   "metadata": {},
   "outputs": [],
   "source": [
    "xoa.register_accessors(decode_sigma=True)"
   ]
  },
  {
   "cell_type": "markdown",
   "metadata": {},
   "source": [
    "The [xoa](file:///local/home/sraynaud/Src/xoa/doc/_build/html/api/xoa.accessors.XoaDatasetAccessor.html#xoa.accessors.XoaDatasetAccessor) accessor is also registered by default, and give access to most of the fonctionalities of the other accessors."
   ]
  },
  {
   "cell_type": "markdown",
   "metadata": {},
   "source": [
    "## Read the model\n",
    "This sample is a meridional extraction of a full 3D CROCO output."
   ]
  },
  {
   "cell_type": "code",
   "execution_count": null,
   "metadata": {
    "scrolled": true
   },
   "outputs": [],
   "source": [
    "ds = xoa.open_data_sample(\"croco.south-africa.meridional.nc\")\n",
    "ds"
   ]
  },
  {
   "cell_type": "markdown",
   "metadata": {},
   "source": [
    "## Compute depths from s-coordinates\n",
    "Decode the dataset according to the CF conventions:\n",
    "\n",
    "1. Find sigma terms\n",
    "2. Compute depths\n",
    "3. Assign depths as coordinates\n",
    "\n",
    "Note that the [decode_sigma](file:///local/home/sraynaud/Src/xoa/doc/_build/html/api/xoa.accessors.SigmaAccessor.html#xoa.accessors.SigmaAccessor) accessor calls the [xoa.sigma.decode_cf_sigma](file:///local/home/sraynaud/Src/xoa/doc/_build/html/api/xoa.sigma.decode_cf_sigma.html#xoa.sigma.decode_cf_sigma) function."
   ]
  },
  {
   "cell_type": "code",
   "execution_count": null,
   "metadata": {
    "scrolled": true
   },
   "outputs": [],
   "source": [
    "ds = ds.decode_sigma()\n",
    "ds.depth"
   ]
  },
  {
   "cell_type": "markdown",
   "metadata": {},
   "source": [
    "## Find coordinate names from CF conventions\n",
    "The `depth` was assigned as coordinates at the previous stage.\n",
    "We use the [xoa](file:///local/home/sraynaud/Src/xoa/doc/_build/html/api/xoa.accessors.XoaDatasetAccessor.html#xoa.accessors.XoaDatasetAccessor) data array accessor to easily access the temperature, latitude and depth arrays."
   ]
  },
  {
   "cell_type": "code",
   "execution_count": null,
   "metadata": {},
   "outputs": [],
   "source": [
    "temp = ds.xoa.temp.squeeze()\n",
    "lat_name = temp.xoa.lat.name"
   ]
  },
  {
   "cell_type": "markdown",
   "metadata": {},
   "source": [
    "## Interpolate at regular depths\n",
    "\n",
    "We interpolate the temperature array from irregular to regular depths.\n",
    "\n",
    "Let's create the output depths."
   ]
  },
  {
   "cell_type": "code",
   "execution_count": null,
   "metadata": {},
   "outputs": [],
   "source": [
    "depth = xr.DataArray(np.linspace(ds.depth.min(), ds.depth.max(), 100), \n",
    "                     name=\"depth\", dims=\"depth\")"
   ]
  },
  {
   "cell_type": "markdown",
   "metadata": {},
   "source": [
    "Let's interpolate the temperature."
   ]
  },
  {
   "cell_type": "code",
   "execution_count": null,
   "metadata": {},
   "outputs": [],
   "source": [
    "tempz = regrid1d(temp, depth)"
   ]
  },
  {
   "cell_type": "markdown",
   "metadata": {},
   "source": [
    "## Plots\n",
    "Make a basic comparison plots."
   ]
  },
  {
   "cell_type": "code",
   "execution_count": null,
   "metadata": {
    "scrolled": false
   },
   "outputs": [],
   "source": [
    "fig, axs = plt.subplots(ncols=2, sharex=True, sharey=True, figsize=(10, 4))\n",
    "kw = dict(levels=np.arange(0, 23))\n",
    "temp.plot.contourf(lat_name, \"depth\", cmap=\"cmo.thermal\", ax=axs[0], **kw)\n",
    "temp.plot.contour(lat_name, \"depth\", colors='w', linewidths=.3, ax=axs[0], **kw)\n",
    "tempz.plot.contourf(lat_name, \"depth\", cmap=\"cmo.thermal\", ax=axs[1], **kw)\n",
    "tempz.plot.contour(lat_name, \"depth\", colors='w', linewidths=.3, ax=axs[1], **kw);"
   ]
  },
  {
   "cell_type": "markdown",
   "metadata": {},
   "source": [
    "Et voilà!"
   ]
  }
 ],
 "metadata": {
  "kernelspec": {
   "display_name": "Python 3",
   "language": "python",
   "name": "python3"
  },
  "language_info": {
   "codemirror_mode": {
    "name": "ipython",
    "version": 3
   },
   "file_extension": ".py",
   "mimetype": "text/x-python",
   "name": "python",
   "nbconvert_exporter": "python",
   "pygments_lexer": "ipython3",
   "version": "3.7.8"
  },
  "latex_envs": {
   "LaTeX_envs_menu_present": true,
   "autoclose": false,
   "autocomplete": true,
   "bibliofile": "biblio.bib",
   "cite_by": "apalike",
   "current_citInitial": 1,
   "eqLabelWithNumbers": true,
   "eqNumInitial": 1,
   "hotkeys": {
    "equation": "Ctrl-E",
    "itemize": "Ctrl-I"
   },
   "labels_anchors": false,
   "latex_user_defs": false,
   "report_style_numbering": false,
   "user_envs_cfg": false
  },
  "toc": {
   "base_numbering": 1,
   "nav_menu": {},
   "number_sections": true,
   "sideBar": true,
   "skip_h1_title": true,
   "title_cell": "Table of Contents",
   "title_sidebar": "Contents",
   "toc_cell": false,
   "toc_position": {},
   "toc_section_display": true,
   "toc_window_display": true
  }
 },
 "nbformat": 4,
 "nbformat_minor": 4
}
